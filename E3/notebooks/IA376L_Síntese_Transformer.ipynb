{
  "nbformat": 4,
  "nbformat_minor": 0,
  "metadata": {
    "colab": {
      "name": "IA376L - Síntese Transformer.ipynb",
      "provenance": [],
      "authorship_tag": "ABX9TyNIjZUq1CLquaNUKLhmeu5a",
      "include_colab_link": true
    },
    "kernelspec": {
      "name": "python3",
      "display_name": "Python 3"
    },
    "language_info": {
      "name": "python"
    },
    "accelerator": "GPU",
    "gpuClass": "standard"
  },
  "cells": [
    {
      "cell_type": "markdown",
      "metadata": {
        "id": "view-in-github",
        "colab_type": "text"
      },
      "source": [
        "<a href=\"https://colab.research.google.com/github/patrickctrf/projeto-ia376/blob/e1gr/E3/notebooks/IA376L_S%C3%ADntese_Transformer.ipynb\" target=\"_parent\"><img src=\"https://colab.research.google.com/assets/colab-badge.svg\" alt=\"Open In Colab\"/></a>"
      ]
    },
    {
      "cell_type": "markdown",
      "source": [
        "#Parte 1  - Download dos arquivos necessários."
      ],
      "metadata": {
        "id": "3RU2R-w1w7eQ"
      }
    },
    {
      "cell_type": "code",
      "source": [
        "!gdown 1wf6hJuC3zcxPP6B_uPWgI--L8c68qskB #primers\n",
        "!7z e primers.7z -o/content/primers\n",
        "\n",
        "!rm primers.7z\n",
        "\n",
        "!mkdir output\n",
        "\n",
        "!gdown 1JqCEMUylvNZTNPiMUjtoKMJnXaS5AQtH #mid to csv\n",
        "!gdown 1D-Meh47KU90da7nVVepa_Am1z2c8A0Zm #csv to mid"
      ],
      "metadata": {
        "id": "qwnILeqVNHlV"
      },
      "execution_count": null,
      "outputs": []
    },
    {
      "cell_type": "markdown",
      "source": [
        "##Fazendo Mount do Google Drive"
      ],
      "metadata": {
        "id": "YXneNoe8xFYg"
      }
    },
    {
      "cell_type": "code",
      "source": [
        "from google.colab import drive\n",
        "drive.mount('/content/drive')"
      ],
      "metadata": {
        "id": "kKzegIIzNNIo"
      },
      "execution_count": null,
      "outputs": []
    },
    {
      "cell_type": "markdown",
      "source": [
        "##Instalando o Numpy específico (1.19)"
      ],
      "metadata": {
        "id": "nbsCPAIpxLtM"
      }
    },
    {
      "cell_type": "code",
      "execution_count": null,
      "metadata": {
        "id": "-a6F4XGPGKHa"
      },
      "outputs": [],
      "source": [
        "!pip uninstall -y numpy\n",
        "!pip install numpy==1.19"
      ]
    },
    {
      "cell_type": "markdown",
      "source": [
        "##Instalando dependências"
      ],
      "metadata": {
        "id": "JV3-0-kgxUzf"
      }
    },
    {
      "cell_type": "code",
      "source": [
        "!gsutil -q -m cp -r gs://magentadata/models/music_transformer/primers/* /content/\n",
        "!gsutil -q -m cp gs://magentadata/soundfonts/Yamaha-C5-Salamander-JNv5.1.sf2 /content/\n",
        "!apt-get update -qq && apt-get install -qq libfluidsynth1 build-essential libasound2-dev libjack-dev\n",
        "!pip install -q 'tensorflow-datasets < 4.0.0'\n",
        "!pip install -q google-cloud magenta pyfluidsynth"
      ],
      "metadata": {
        "id": "Mb7B6IDGHi-q"
      },
      "execution_count": null,
      "outputs": []
    },
    {
      "cell_type": "markdown",
      "source": [
        "##Instalando Magenta"
      ],
      "metadata": {
        "id": "knUnluMjxpq9"
      }
    },
    {
      "cell_type": "code",
      "source": [
        "!curl https://raw.githubusercontent.com/tensorflow/magenta/main/magenta/tools/magenta-install.sh > /tmp/magenta-install.sh\n",
        "!bash /tmp/magenta-install.sh"
      ],
      "metadata": {
        "id": "7WYdeLfladuE"
      },
      "execution_count": null,
      "outputs": []
    },
    {
      "cell_type": "markdown",
      "source": [
        "#Parte 2"
      ],
      "metadata": {
        "id": "LI-hNmlPxvUt"
      }
    },
    {
      "cell_type": "markdown",
      "source": [
        "##Instalando as Bibliotecas necessárias"
      ],
      "metadata": {
        "id": "OnIOtlB_yTgv"
      }
    },
    {
      "cell_type": "code",
      "source": [
        "%tensorflow_version 1.x\n",
        "\n",
        "import numpy as np\n",
        "import os\n",
        "import tensorflow.compat.v1 as tf\n",
        "\n",
        "from google.colab import files\n",
        "\n",
        "from tensor2tensor import models\n",
        "from tensor2tensor import problems\n",
        "from tensor2tensor.data_generators import text_encoder\n",
        "from tensor2tensor.utils import decoding\n",
        "from tensor2tensor.utils import trainer_lib\n",
        "\n",
        "from magenta.models.score2perf import score2perf\n",
        "import note_seq\n",
        "\n",
        "tf.disable_v2_behavior()"
      ],
      "metadata": {
        "id": "PW_mep3-HahJ"
      },
      "execution_count": null,
      "outputs": []
    },
    {
      "cell_type": "markdown",
      "source": [
        "##Definições de variáveis"
      ],
      "metadata": {
        "id": "00thFmSFybFu"
      }
    },
    {
      "cell_type": "code",
      "source": [
        "SF2_PATH = '/content/Yamaha-C5-Salamander-JNv5.1.sf2'\n",
        "SAMPLE_RATE = 16000\n",
        "\n",
        "def decode(ids, encoder):\n",
        "  ids = list(ids)\n",
        "  if text_encoder.EOS_ID in ids:\n",
        "    ids = ids[:ids.index(text_encoder.EOS_ID)]\n",
        "  return encoder.decode(ids)"
      ],
      "metadata": {
        "id": "waiV4OANLR5Y"
      },
      "execution_count": null,
      "outputs": []
    },
    {
      "cell_type": "markdown",
      "source": [
        "##Instalando o transformer pré-treinado para sequenciar uma entrada primer"
      ],
      "metadata": {
        "id": "XySj5mgqzJXm"
      }
    },
    {
      "cell_type": "code",
      "source": [
        "model_name = 'transformer'\n",
        "hparams_set = 'transformer_tpu'\n",
        "ckpt_path = 'gs://magentadata/models/music_transformer/checkpoints/unconditional_model_16.ckpt'\n",
        "\n",
        "class PianoPerformanceLanguageModelProblem(score2perf.Score2PerfProblem):\n",
        "  @property\n",
        "  def add_eos_symbol(self):\n",
        "    return True\n",
        "\n",
        "problem = PianoPerformanceLanguageModelProblem()\n",
        "unconditional_encoders = problem.get_feature_encoders()\n",
        "\n",
        "hparams = trainer_lib.create_hparams(hparams_set=hparams_set)\n",
        "trainer_lib.add_problem_hparams(hparams, problem)\n",
        "hparams.num_hidden_layers = 16\n",
        "hparams.sampling_method = 'random'\n",
        "\n",
        "decode_hparams = decoding.decode_hparams()\n",
        "decode_hparams.alpha = 0.0\n",
        "decode_hparams.beam_size = 1\n",
        "\n",
        "run_config = trainer_lib.create_run_config(hparams)\n",
        "estimator = trainer_lib.create_estimator(\n",
        "    model_name, hparams, run_config,\n",
        "    decode_hparams=decode_hparams)\n",
        "\n",
        "def input_generator():\n",
        "  global targets\n",
        "  global decode_length\n",
        "  while True:\n",
        "    yield {\n",
        "        'targets': np.array([targets], dtype=np.int32),\n",
        "        'decode_length': np.array(decode_length, dtype=np.int32)\n",
        "    }\n",
        "\n",
        "targets = []\n",
        "decode_length = 0\n",
        "\n",
        "input_fn = decoding.make_input_fn_from_generator(input_generator())\n",
        "unconditional_samples = estimator.predict(\n",
        "    input_fn, checkpoint_path=ckpt_path)\n",
        "\n",
        "_ = next(unconditional_samples)"
      ],
      "metadata": {
        "id": "PaQRBgjILmOB"
      },
      "execution_count": null,
      "outputs": []
    },
    {
      "cell_type": "markdown",
      "source": [
        "##Formatando a entrada primer"
      ],
      "metadata": {
        "id": "EEvwXxC0zoY_"
      }
    },
    {
      "cell_type": "code",
      "source": [
        "primer_ns = note_seq.midi_file_to_note_sequence('/content/primers/Game_of_Thrones_Melody_Polyphonic.mid')\n",
        "primer_ns = note_seq.apply_sustain_control_changes(primer_ns)\n",
        "\n",
        "max_primer_seconds = 20 \n",
        "if primer_ns.total_time > max_primer_seconds:\n",
        "  print('Primer is longer than %d seconds, truncating.' % max_primer_seconds)\n",
        "  primer_ns = note_seq.extract_subsequence(\n",
        "      primer_ns, 0, max_primer_seconds)\n",
        "\n",
        "if any(note.is_drum for note in primer_ns.notes):\n",
        "  print('Primer contains drums; they will be removed.')\n",
        "  notes = [note for note in primer_ns.notes if not note.is_drum]\n",
        "  del primer_ns.notes[:]\n",
        "  primer_ns.notes.extend(notes)\n",
        "\n",
        "for note in primer_ns.notes:\n",
        "  note.instrument = 1\n",
        "  note.program = 0"
      ],
      "metadata": {
        "id": "FpV8aSz_MdFk"
      },
      "execution_count": null,
      "outputs": []
    },
    {
      "cell_type": "markdown",
      "source": [
        "##Fazendo o decode do áudio"
      ],
      "metadata": {
        "id": "rjGKPyVQ0V3f"
      }
    },
    {
      "cell_type": "code",
      "source": [
        "targets = unconditional_encoders['targets'].encode_note_sequence(\n",
        "    primer_ns)\n",
        "\n",
        "targets = targets[:-1]\n",
        "\n",
        "decode_length = max(0, 4096 - len(targets))\n",
        "if len(targets) >= 4096:\n",
        "  print('Primer has more events than maximum sequence length; nothing will be generated.')\n",
        "\n",
        "sample_ids = next(unconditional_samples)['outputs']\n",
        "\n",
        "midi_filename = decode(\n",
        "    sample_ids,\n",
        "    encoder=unconditional_encoders['targets'])\n",
        "ns = note_seq.midi_file_to_note_sequence(midi_filename)\n",
        "\n",
        "continuation_ns = note_seq.concatenate_sequences([primer_ns, ns])\n",
        "\n",
        "note_seq.sequence_proto_to_midi_file(\n",
        "    continuation_ns, '/tmp/continuation.mid')"
      ],
      "metadata": {
        "id": "yCOWfGhHN_G2"
      },
      "execution_count": null,
      "outputs": []
    },
    {
      "cell_type": "markdown",
      "source": [
        "##Instalando o transformer pré-treinado para fazer acompanhamento do arquivo midi gerado anteriormente"
      ],
      "metadata": {
        "id": "UhPjzbOH04tO"
      }
    },
    {
      "cell_type": "code",
      "source": [
        "model_name = 'transformer'\n",
        "hparams_set = 'transformer_tpu'\n",
        "ckpt_path = 'gs://magentadata/models/music_transformer/checkpoints/melody_conditioned_model_16.ckpt'\n",
        "\n",
        "class MelodyToPianoPerformanceProblem(score2perf.AbsoluteMelody2PerfProblem):\n",
        "  @property\n",
        "  def add_eos_symbol(self):\n",
        "    return True\n",
        "\n",
        "problem = MelodyToPianoPerformanceProblem()\n",
        "melody_conditioned_encoders = problem.get_feature_encoders()\n",
        "\n",
        "hparams = trainer_lib.create_hparams(hparams_set=hparams_set)\n",
        "trainer_lib.add_problem_hparams(hparams, problem)\n",
        "hparams.num_hidden_layers = 16\n",
        "hparams.sampling_method = 'random'\n",
        "\n",
        "decode_hparams = decoding.decode_hparams()\n",
        "decode_hparams.alpha = 0.0\n",
        "decode_hparams.beam_size = 1\n",
        "\n",
        "run_config = trainer_lib.create_run_config(hparams)\n",
        "estimator = trainer_lib.create_estimator(\n",
        "    model_name, hparams, run_config,\n",
        "    decode_hparams=decode_hparams)\n",
        "\n",
        "inputs = []\n",
        "decode_length = 0\n",
        "\n",
        "def input_generator():\n",
        "  global inputs\n",
        "  while True:\n",
        "    yield {\n",
        "        'inputs': np.array([[inputs]], dtype=np.int32),\n",
        "        'targets': np.zeros([1, 0], dtype=np.int32),\n",
        "        'decode_length': np.array(decode_length, dtype=np.int32)\n",
        "    }\n",
        "\n",
        "input_fn = decoding.make_input_fn_from_generator(input_generator())\n",
        "melody_conditioned_samples = estimator.predict(\n",
        "    input_fn, checkpoint_path=ckpt_path)\n",
        "\n",
        "_ = next(melody_conditioned_samples)"
      ],
      "metadata": {
        "id": "yNIm895mOrZC"
      },
      "execution_count": null,
      "outputs": []
    },
    {
      "cell_type": "markdown",
      "source": [
        "##Formatando a entrada midi"
      ],
      "metadata": {
        "id": "C4-Lx-lm1cd2"
      }
    },
    {
      "cell_type": "code",
      "source": [
        "melody_ns = note_seq.midi_to_note_sequence('/content/primers/Game_of_Thrones_Melody_Polyphonic.mid')\n",
        "melody_instrument = note_seq.infer_melody_for_sequence(melody_ns)\n",
        "notes = [note for note in melody_ns.notes\n",
        "        if note.instrument == melody_instrument]\n",
        "del melody_ns.notes[:]\n",
        "melody_ns.notes.extend(\n",
        "    sorted(notes, key=lambda note: note.start_time))\n",
        "for i in range(len(melody_ns.notes) - 1):\n",
        "melody_ns.notes[i].end_time = melody_ns.notes[i + 1].start_time\n",
        "inputs = melody_conditioned_encoders['inputs'].encode_note_sequence(\n",
        "    melody_ns)\n",
        "note_seq.plot_sequence(melody_ns)"
      ],
      "metadata": {
        "id": "XP1YOrAYPJKx"
      },
      "execution_count": null,
      "outputs": []
    },
    {
      "cell_type": "markdown",
      "source": [
        "##Fazendo o decode do áudio"
      ],
      "metadata": {
        "id": "jMt1_Exf2T_H"
      }
    },
    {
      "cell_type": "code",
      "source": [
        "# Generate sample events.\n",
        "decode_length = 4096\n",
        "sample_ids = next(melody_conditioned_samples)['outputs']\n",
        "\n",
        "# Decode to NoteSequence.\n",
        "midi_filename = decode(\n",
        "    sample_ids,\n",
        "    encoder=melody_conditioned_encoders['targets'])\n",
        "accompaniment_ns = note_seq.midi_file_to_note_sequence(midi_filename)\n",
        "\n",
        "note_seq.sequence_proto_to_midi_file(\n",
        "    accompaniment_ns, '/tmp/accompaniment.mid')"
      ],
      "metadata": {
        "id": "bDs_t3wJPydb"
      },
      "execution_count": null,
      "outputs": []
    }
  ]
}